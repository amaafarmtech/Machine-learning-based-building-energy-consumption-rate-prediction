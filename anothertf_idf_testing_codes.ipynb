{
  "nbformat": 4,
  "nbformat_minor": 0,
  "metadata": {
    "colab": {
      "provenance": []
    },
    "kernelspec": {
      "name": "python3",
      "display_name": "Python 3"
    },
    "language_info": {
      "name": "python"
    }
  },
  "cells": [
    {
      "cell_type": "code",
      "execution_count": null,
      "metadata": {
        "colab": {
          "base_uri": "https://localhost:8080/"
        },
        "id": "s72pIsP0_wdl",
        "outputId": "e304b4e6-744d-4f61-a0bc-9dd52cde10a7"
      },
      "outputs": [
        {
          "output_type": "stream",
          "name": "stderr",
          "text": [
            "[nltk_data] Downloading package punkt to /root/nltk_data...\n",
            "[nltk_data]   Unzipping tokenizers/punkt.zip.\n",
            "[nltk_data] Downloading package stopwords to /root/nltk_data...\n",
            "[nltk_data]   Unzipping corpora/stopwords.zip.\n",
            "[nltk_data] Downloading package wordnet to /root/nltk_data...\n"
          ]
        },
        {
          "output_type": "execute_result",
          "data": {
            "text/plain": [
              "True"
            ]
          },
          "metadata": {},
          "execution_count": 1
        }
      ],
      "source": [
        "import nltk\n",
        "nltk.download('punkt')\n",
        "nltk.download('stopwords')\n",
        "nltk.download('wordnet')"
      ]
    },
    {
      "cell_type": "code",
      "source": [
        "import requests\n",
        "from bs4 import BeautifulSoup\n",
        "import pandas as pd\n",
        "import numpy as np\n",
        "from sklearn.feature_extraction.text import TfidfVectorizer\n",
        "import re\n",
        "from nltk.corpus import stopwords\n",
        "from nltk.tokenize import word_tokenize\n",
        "from nltk.stem import WordNetLemmatizer\n",
        "from nltk.tokenize import sent_tokenize"
      ],
      "metadata": {
        "id": "BcRCpvarALsU"
      },
      "execution_count": null,
      "outputs": []
    },
    {
      "cell_type": "code",
      "source": [
        "urls = [\"https://find-energy-certificate.service.gov.uk/energy-certificate/9243-1656-8157-5614-7032\",\n",
        "       \"https://find-energy-certificate.service.gov.uk/energy-certificate/0913-4892-7174-6575-8766\",\n",
        "       \"https://find-energy-certificate.service.gov.uk/energy-certificate/5236-8361-7770-3484-3888\",\n",
        "       \"https://find-energy-certificate.service.gov.uk/energy-certificate/5371-2019-9466-5525-7406\",\n",
        "       \"https://find-energy-certificate.service.gov.uk/energy-certificate/6635-7895-8451-2459-1185\"\n",
        "       \"https://find-energy-certificate.service.gov.uk/energy-certificate/0210-0540-3952-5807-7002\"\n",
        "       \"https://find-energy-certificate.service.gov.uk/energy-certificate/7698-5227-9050-3703-7810\"\n",
        "       \"https://find-energy-certificate.service.gov.uk/energy-certificate/2955-7547-6216-0595-4628\"\n",
        "       \"https://find-energy-certificate.service.gov.uk/energy-certificate/9739-4077-0764-0001-9501\" ]\n",
        "\n",
        "def scrape_webpage(url):\n",
        "    response = requests.get(url)\n",
        "    content = response.text\n",
        "\n",
        "    soup = BeautifulSoup(content, 'html.parser')\n",
        "    text = soup.get_text()\n",
        "    return text\n",
        "\n",
        "# Define a function for cleaning and preprocessing the text data\n",
        "def preprocess_text(text):\n",
        "    # Remove HTML tags\n",
        "    text = BeautifulSoup(text, \"html.parser\").get_text()\n",
        "\n",
        "    # Convert to lowercase\n",
        "    text = text.lower()\n",
        "\n",
        "    # Remove non-alphanumeric characters\n",
        "    text = re.sub(r'[^a-zA-Z0-9\\s]', '', text)\n",
        "\n",
        "    # Tokenize the text into words\n",
        "    words = word_tokenize(text)\n",
        "\n",
        "    # Remove stopwords\n",
        "    words = [word for word in words if word not in stopwords.words('english')]\n",
        "\n",
        "    # Lemmatize the words\n",
        "    lemmatizer = WordNetLemmatizer()\n",
        "    words = [lemmatizer.lemmatize(word) for word in words]\n",
        "\n",
        "    cleaned_text = [word for word in words if not word.isdigit()]\n",
        "\n",
        "    # Join the cleaned words back into a single string\n",
        "    cleaned_text = \" \".join(words)\n",
        "\n",
        "    return cleaned_text\n",
        "\n",
        "\n",
        "\n",
        "\n",
        "# Example Usage\n",
        "# Assuming 'text_data' contains the extracted text from the web source\n",
        "    #cleaned_text = preprocess_text(text)\n",
        "    #print(cleaned_text)\n",
        "\n",
        "\n",
        "\n",
        "\n",
        "\n"
      ],
      "metadata": {
        "id": "bUQtX2ydCLYA"
      },
      "execution_count": null,
      "outputs": []
    },
    {
      "cell_type": "code",
      "source": [
        "# Scrape the content from each web page and preprocess the text\n",
        "cleaned_texts = []\n",
        "for url in urls:\n",
        "    content = scrape_webpage(url)\n",
        "    cleaned_text = preprocess_text(content)\n",
        "    cleaned_texts.append(cleaned_text)\n",
        "\n",
        "# Tokenize the cleaned text and remove stopwords\n",
        "tokenized_texts = [word_tokenize(cleaned_text) for text in cleaned_text]\n",
        "stop_words = set(stopwords.words(\"english\"))\n",
        "filtered_texts = [[word for word in tokens if word not in stop_words] for tokens in tokenized_texts]\n",
        "\n",
        "# Join tokenized words back into strings to use with TfidfVectorizer\n",
        "document_texts = [\" \".join(tokens) for tokens in filtered_texts]\n",
        "\n",
        "# Calculate TF-IDF scores using TfidfVectorizer\n",
        "tfidf_vectorizer = TfidfVectorizer()\n",
        "tfidf_matrix = tfidf_vectorizer.fit_transform(document_texts)\n",
        "\n",
        "# Create a DataFrame with the vectorized words and their corresponding TF-IDF scores\n",
        "tfidf_df = pd.DataFrame(tfidf_matrix.toarray(), columns=tfidf_vectorizer.get_feature_names_out())\n",
        "\n",
        "# Add an additional column to the DataFrame to represent the web pages (URLs)\n",
        "#tfidf_df[\"urls\"] = urls\n",
        "\n",
        "# Set the web page URLs as the index of the DataFrame\n",
        "#tfidf_df.set_index(\"urls\", inplace=True)\n",
        "\n",
        "# Display the DataFrame\n",
        "print(tfidf_df)\n",
        "\n",
        "\n",
        "\n",
        "\n",
        "\n"
      ],
      "metadata": {
        "colab": {
          "base_uri": "https://localhost:8080/"
        },
        "id": "dSGv18CBF4jk",
        "outputId": "7300ae68-6ed3-493b-cc47-188767c288cd"
      },
      "execution_count": null,
      "outputs": [
        {
          "output_type": "stream",
          "name": "stdout",
          "text": [
            "      accept  accepted  accessibility  address     also  analytics  available  \\\n",
            "0    0.06415   0.06415        0.06415  0.19245  0.06415    0.32075    0.06415   \n",
            "1    0.06415   0.06415        0.06415  0.19245  0.06415    0.32075    0.06415   \n",
            "2    0.06415   0.06415        0.06415  0.19245  0.06415    0.32075    0.06415   \n",
            "3    0.06415   0.06415        0.06415  0.19245  0.06415    0.32075    0.06415   \n",
            "4    0.06415   0.06415        0.06415  0.19245  0.06415    0.32075    0.06415   \n",
            "..       ...       ...            ...      ...      ...        ...        ...   \n",
            "655  0.06415   0.06415        0.06415  0.19245  0.06415    0.32075    0.06415   \n",
            "656  0.06415   0.06415        0.06415  0.19245  0.06415    0.32075    0.06415   \n",
            "657  0.06415   0.06415        0.06415  0.19245  0.06415    0.32075    0.06415   \n",
            "658  0.06415   0.06415        0.06415  0.19245  0.06415    0.32075    0.06415   \n",
            "659  0.06415   0.06415        0.06415  0.19245  0.06415    0.32075    0.06415   \n",
            "\n",
            "     certificate  change   check  ...    time    typed  understand      use  \\\n",
            "0         0.1283  0.1283  0.1283  ...  0.1283  0.06415     0.06415  0.19245   \n",
            "1         0.1283  0.1283  0.1283  ...  0.1283  0.06415     0.06415  0.19245   \n",
            "2         0.1283  0.1283  0.1283  ...  0.1283  0.06415     0.06415  0.19245   \n",
            "3         0.1283  0.1283  0.1283  ...  0.1283  0.06415     0.06415  0.19245   \n",
            "4         0.1283  0.1283  0.1283  ...  0.1283  0.06415     0.06415  0.19245   \n",
            "..           ...     ...     ...  ...     ...      ...         ...      ...   \n",
            "655       0.1283  0.1283  0.1283  ...  0.1283  0.06415     0.06415  0.19245   \n",
            "656       0.1283  0.1283  0.1283  ...  0.1283  0.06415     0.06415  0.19245   \n",
            "657       0.1283  0.1283  0.1283  ...  0.1283  0.06415     0.06415  0.19245   \n",
            "658       0.1283  0.1283  0.1283  ...  0.1283  0.06415     0.06415  0.19245   \n",
            "659       0.1283  0.1283  0.1283  ...  0.1283  0.06415     0.06415  0.19245   \n",
            "\n",
            "         v30     view     web      wed     work   youve  \n",
            "0    0.06415  0.06415  0.1283  0.06415  0.06415  0.1283  \n",
            "1    0.06415  0.06415  0.1283  0.06415  0.06415  0.1283  \n",
            "2    0.06415  0.06415  0.1283  0.06415  0.06415  0.1283  \n",
            "3    0.06415  0.06415  0.1283  0.06415  0.06415  0.1283  \n",
            "4    0.06415  0.06415  0.1283  0.06415  0.06415  0.1283  \n",
            "..       ...      ...     ...      ...      ...     ...  \n",
            "655  0.06415  0.06415  0.1283  0.06415  0.06415  0.1283  \n",
            "656  0.06415  0.06415  0.1283  0.06415  0.06415  0.1283  \n",
            "657  0.06415  0.06415  0.1283  0.06415  0.06415  0.1283  \n",
            "658  0.06415  0.06415  0.1283  0.06415  0.06415  0.1283  \n",
            "659  0.06415  0.06415  0.1283  0.06415  0.06415  0.1283  \n",
            "\n",
            "[660 rows x 58 columns]\n"
          ]
        }
      ]
    },
    {
      "cell_type": "code",
      "source": [
        "from collections import Counter\n",
        "\n",
        "# WordVec: List of word vectors\n",
        "WordVec = ['energy', 'performance', 'certificate', 'epc', 'find', 'energy', 'certificate', 'govuk', 'cooky', 'find', 'energy', 'certificate', 'use', 'essential', 'cooky', 'make', 'service', 'work', 'wed', 'also', 'like', 'use', 'analytics', 'cooky', 'understand', 'use', 'service', 'make', 'improvement', 'accept', 'analytics', 'cooky', 'reject', 'analytics', 'cooky', 'view', 'cooky', 'youve', 'accepted', 'analytics', 'cooky', 'change', 'cookie', 'setting', 'time', 'youve', 'rejected', 'analytics', 'cooky', 'change', 'cookie', 'setting', 'time', 'hide', 'cookie', 'message', 'skip', 'main', 'content', 'govuk', 'find', 'energy', 'certificate', 'energy', 'performance', 'certificate', 'epc', 'recommendation', 'report', 'report', 'content', 'energy', 'rating', 'epc', 'recommendation', 'property', 'report', 'detail', 'assessor', 'detail', 'report', 'property', 'share', 'report', 'email', 'copy', 'link', 'clipboard', 'print', 'su5355', 'vicar', 'lane', 'leeds', 'ls1', '6ba', 'report', 'number', '92431656815756147032', 'valid', '3', 'february', '2032', 'energy', 'rating', 'epc', 'property', 'current', 'energy', 'rating', 'information', 'property', 'energy', 'performance', 'see', 'epc', 'property', 'recommendation', 'make', 'change', 'improve', 'property', 'energy', 'efficiency', 'recommended', 'improvement', 'grouped', 'estimated', 'time', 'would', 'take', 'change', 'pay', 'assessor', 'may', 'also', 'make', 'additional', 'recommendation', 'recommendation', 'marked', 'low', 'medium', 'high', 'show', 'potential', 'impact', 'change', 'reducing', 'property', 'carbon', 'emission', 'change', 'pay', 'within', '3', 'year', 'recommendation', 'potential', 'impact', 'improve', 'insulation', 'hws', 'storage', 'low', 'add', 'time', 'control', 'heating', 'system', 'medium', 'space', 'solar', 'gain', 'limit', 'defined', 'ncm', 'exceeded', 'might', 'cause', 'overheating', 'consider', 'solar', 'control', 'measure', 'application', 'reflective', 'coating', 'shading', 'device', 'window', 'medium', 'add', 'optimum', 'startstop', 'heating', 'system', 'medium', 'change', 'pay', 'within', '3', '7', 'year', 'recommendation', 'potential', 'impact', 'window', 'high', 'uvalues', 'consider', 'installing', 'secondary', 'glazing', 'medium', 'add', 'local', 'temperature', 'control', 'heating', 'system', 'medium', 'add', 'weather', 'compensation', 'control', 'heating', 'system', 'medium', 'loft', 'space', 'poorly', 'insulated', 'installimprove', 'insulation', 'medium', 'add', 'local', 'time', 'control', 'heating', 'system', 'medium', 'solid', 'wall', 'poorly', 'insulated', 'introduce', 'improve', 'internal', 'wall', 'insulation', 'medium', 'carry', 'pressure', 'test', 'identify', 'treat', 'identified', 'air', 'leakage', 'enter', 'result', 'epc', 'calculation', 'medium', 'change', 'pay', '7', 'year', 'recommendation', 'potential', 'impact', 'glazing', 'poorly', 'insulated', 'replaceimprove', 'glazing', 'andor', 'frame', 'medium', 'consider', 'installing', 'air', 'source', 'heat', 'pump', 'high', 'consider', 'installing', 'ground', 'source', 'heat', 'pump', 'high', 'consider', 'installing', 'building', 'mounted', 'wind', 'turbine', 'low', 'consider', 'installing', 'solar', 'water', 'heating', 'low', 'additional', 'recommendation', 'recommendation', 'potential', 'impact', 'consider', 'replacing', 't8', 'lamp', 'led', 'low', 'property', 'report', 'detail', 'report', 'issued', '4', 'february', '2022', 'total', 'useful', 'floor', 'area', '864', 'square', 'metre', 'building', 'environment', 'heating', 'natural', 'ventilation', 'calculation', 'tool', 'designbuilder', 'software', 'ltd', 'designbuilder', 'sbem', 'v618', 'sbem', 'v56b0', 'assessor', 'detail', 'assessor', 'name', 'ashton', 'kaziboni', 'telephone', '01327', '811166', 'email', 'ashtonkazibonisocoteccom', 'employer', 'name', 'socotec', 'ltd', 'employer', 'address', 'henge', 'barn', 'pury', 'hill', 'business', 'park', 'alderton', 'road', 'assessor', 'id', 'stro034300', 'assessor', 'declaration', 'assessor', 'related', 'owner', 'property', 'accreditation', 'scheme', 'stroma', 'certification', 'ltd', 'report', 'property', 'aware', 'previous', 'report', 'property', 'listed', 'please', 'contact', 'u', 'dluhcdigitalserviceslevellingupgovuk', 'call', 'helpdesk', '020', '3829', '0748', 'monday', 'friday', '9am', '5pm', 'related', 'report', 'property', 'support', 'link', 'accessibility', 'statement', 'cooky', 'service', 'give', 'feedback', 'service', 'performance', 'content', 'available', 'open', 'government', 'licence', 'v30', 'except', 'otherwise', 'stated', 'crown', 'copyright']\n",
        "\n",
        "# cleanedtext: Set of list of words\n",
        "cleanedtext = [\n",
        "    ['energy', 'certificate', 'performance'],\n",
        "    ['epc', 'find', 'energy', 'certificate', 'govuk'],\n",
        "    ['cooky', 'find', 'energy', 'certificate', 'use'],\n",
        "    ['essential', 'cooky', 'make', 'service', 'work'],\n",
        "    ['youve', 'accepted', 'analytics', 'cooky', 'change']\n",
        "]\n",
        "\n",
        "# Create a dictionary for WordVec and initialize each word count to 0\n",
        "word_vec_dict = {word: 0 for word in WordVec}\n",
        "\n",
        "# Count how many times each word appears in cleanedtext and update the dictionary\n",
        "for document in cleanedtext:\n",
        "    for word in document:\n",
        "        if word in word_vec_dict:\n",
        "            word_vec_dict[word] += 1\n",
        "\n",
        "# Display the word count dictionary\n",
        "print(word_vec_dict)\n"
      ],
      "metadata": {
        "colab": {
          "base_uri": "https://localhost:8080/"
        },
        "id": "-5DngHnfbOA2",
        "outputId": "43baae50-0e2b-4904-e871-4af1cf1b0c18"
      },
      "execution_count": null,
      "outputs": [
        {
          "output_type": "stream",
          "name": "stdout",
          "text": [
            "{'energy': 3, 'performance': 1, 'certificate': 3, 'epc': 1, 'find': 2, 'govuk': 1, 'cooky': 3, 'use': 1, 'essential': 1, 'make': 1, 'service': 1, 'work': 1, 'wed': 0, 'also': 0, 'like': 0, 'analytics': 1, 'understand': 0, 'improvement': 0, 'accept': 0, 'reject': 0, 'view': 0, 'youve': 1, 'accepted': 1, 'change': 1, 'cookie': 0, 'setting': 0, 'time': 0, 'rejected': 0, 'hide': 0, 'message': 0, 'skip': 0, 'main': 0, 'content': 0, 'recommendation': 0, 'report': 0, 'rating': 0, 'property': 0, 'detail': 0, 'assessor': 0, 'share': 0, 'email': 0, 'copy': 0, 'link': 0, 'clipboard': 0, 'print': 0, 'su5355': 0, 'vicar': 0, 'lane': 0, 'leeds': 0, 'ls1': 0, '6ba': 0, 'number': 0, '92431656815756147032': 0, 'valid': 0, '3': 0, 'february': 0, '2032': 0, 'current': 0, 'information': 0, 'see': 0, 'improve': 0, 'efficiency': 0, 'recommended': 0, 'grouped': 0, 'estimated': 0, 'would': 0, 'take': 0, 'pay': 0, 'may': 0, 'additional': 0, 'marked': 0, 'low': 0, 'medium': 0, 'high': 0, 'show': 0, 'potential': 0, 'impact': 0, 'reducing': 0, 'carbon': 0, 'emission': 0, 'within': 0, 'year': 0, 'insulation': 0, 'hws': 0, 'storage': 0, 'add': 0, 'control': 0, 'heating': 0, 'system': 0, 'space': 0, 'solar': 0, 'gain': 0, 'limit': 0, 'defined': 0, 'ncm': 0, 'exceeded': 0, 'might': 0, 'cause': 0, 'overheating': 0, 'consider': 0, 'measure': 0, 'application': 0, 'reflective': 0, 'coating': 0, 'shading': 0, 'device': 0, 'window': 0, 'optimum': 0, 'startstop': 0, '7': 0, 'uvalues': 0, 'installing': 0, 'secondary': 0, 'glazing': 0, 'local': 0, 'temperature': 0, 'weather': 0, 'compensation': 0, 'loft': 0, 'poorly': 0, 'insulated': 0, 'installimprove': 0, 'solid': 0, 'wall': 0, 'introduce': 0, 'internal': 0, 'carry': 0, 'pressure': 0, 'test': 0, 'identify': 0, 'treat': 0, 'identified': 0, 'air': 0, 'leakage': 0, 'enter': 0, 'result': 0, 'calculation': 0, 'replaceimprove': 0, 'andor': 0, 'frame': 0, 'source': 0, 'heat': 0, 'pump': 0, 'ground': 0, 'building': 0, 'mounted': 0, 'wind': 0, 'turbine': 0, 'water': 0, 'replacing': 0, 't8': 0, 'lamp': 0, 'led': 0, 'issued': 0, '4': 0, '2022': 0, 'total': 0, 'useful': 0, 'floor': 0, 'area': 0, '864': 0, 'square': 0, 'metre': 0, 'environment': 0, 'natural': 0, 'ventilation': 0, 'tool': 0, 'designbuilder': 0, 'software': 0, 'ltd': 0, 'sbem': 0, 'v618': 0, 'v56b0': 0, 'name': 0, 'ashton': 0, 'kaziboni': 0, 'telephone': 0, '01327': 0, '811166': 0, 'ashtonkazibonisocoteccom': 0, 'employer': 0, 'socotec': 0, 'address': 0, 'henge': 0, 'barn': 0, 'pury': 0, 'hill': 0, 'business': 0, 'park': 0, 'alderton': 0, 'road': 0, 'id': 0, 'stro034300': 0, 'declaration': 0, 'related': 0, 'owner': 0, 'accreditation': 0, 'scheme': 0, 'stroma': 0, 'certification': 0, 'aware': 0, 'previous': 0, 'listed': 0, 'please': 0, 'contact': 0, 'u': 0, 'dluhcdigitalserviceslevellingupgovuk': 0, 'call': 0, 'helpdesk': 0, '020': 0, '3829': 0, '0748': 0, 'monday': 0, 'friday': 0, '9am': 0, '5pm': 0, 'support': 0, 'accessibility': 0, 'statement': 0, 'give': 0, 'feedback': 0, 'available': 0, 'open': 0, 'government': 0, 'licence': 0, 'v30': 0, 'except': 0, 'otherwise': 0, 'stated': 0, 'crown': 0, 'copyright': 0}\n"
          ]
        }
      ]
    },
    {
      "cell_type": "code",
      "source": [
        "from collections import Counter\n",
        "\n",
        "# WordVec: List of word vectors\n",
        "WordVec = ['energy', 'performance', 'certificate', 'epc', 'find', 'energy', 'certificate', 'govuk', 'cooky', 'find', 'energy', 'certificate', 'use', 'essential', 'cooky', 'make', 'service', 'work', 'wed', 'also', 'like', 'use', 'analytics', 'cooky', 'understand', 'use', 'service', 'make', 'improvement', 'accept', 'analytics', 'cooky', 'reject', 'analytics', 'cooky', 'view', 'cooky', 'youve', 'accepted', 'analytics', 'cooky', 'change', 'cookie', 'setting', 'time', 'youve', 'rejected', 'analytics', 'cooky', 'change', 'cookie', 'setting', 'time', 'hide', 'cookie', 'message', 'skip', 'main', 'content', 'govuk', 'find', 'energy', 'certificate', 'energy', 'performance', 'certificate', 'epc', 'recommendation', 'report', 'report', 'content', 'energy', 'rating', 'epc', 'recommendation', 'property', 'report', 'detail', 'assessor', 'detail', 'report', 'property', 'share', 'report', 'email', 'copy', 'link', 'clipboard', 'print', 'su5355', 'vicar', 'lane', 'leeds', 'ls1', '6ba', 'report', 'number', '92431656815756147032', 'valid', '3', 'february', '2032', 'energy', 'rating', 'epc', 'property', 'current', 'energy', 'rating', 'information', 'property', 'energy', 'performance', 'see', 'epc', 'property', 'recommendation', 'make', 'change', 'improve', 'property', 'energy', 'efficiency', 'recommended', 'improvement', 'grouped', 'estimated', 'time', 'would', 'take', 'change', 'pay', 'assessor', 'may', 'also', 'make', 'additional', 'recommendation', 'recommendation', 'marked', 'low', 'medium', 'high', 'show', 'potential', 'impact', 'change', 'reducing', 'property', 'carbon', 'emission', 'change', 'pay', 'within', '3', 'year', 'recommendation', 'potential', 'impact', 'improve', 'insulation', 'hws', 'storage', 'low', 'add', 'time', 'control', 'heating', 'system', 'medium', 'space', 'solar', 'gain', 'limit', 'defined', 'ncm', 'exceeded', 'might', 'cause', 'overheating', 'consider', 'solar', 'control', 'measure', 'application', 'reflective', 'coating', 'shading', 'device', 'window', 'medium', 'add', 'optimum', 'startstop', 'heating', 'system', 'medium', 'change', 'pay', 'within', '3', '7', 'year', 'recommendation', 'potential', 'impact', 'window', 'high', 'uvalues', 'consider', 'installing', 'secondary', 'glazing', 'medium', 'add', 'local', 'temperature', 'control', 'heating', 'system', 'medium', 'add', 'weather', 'compensation', 'control', 'heating', 'system', 'medium', 'loft', 'space', 'poorly', 'insulated', 'installimprove', 'insulation', 'medium', 'add', 'local', 'time', 'control', 'heating', 'system', 'medium', 'solid', 'wall', 'poorly', 'insulated', 'introduce', 'improve', 'internal', 'wall', 'insulation', 'medium', 'carry', 'pressure', 'test', 'identify', 'treat', 'identified', 'air', 'leakage', 'enter', 'result', 'epc', 'calculation', 'medium', 'change', 'pay', '7', 'year', 'recommendation', 'potential', 'impact', 'glazing', 'poorly', 'insulated', 'replaceimprove', 'glazing', 'andor', 'frame', 'medium', 'consider', 'installing', 'air', 'source', 'heat', 'pump', 'high', 'consider', 'installing', 'ground', 'source', 'heat', 'pump', 'high', 'consider', 'installing', 'building', 'mounted', 'wind', 'turbine', 'low', 'consider', 'installing', 'solar', 'water', 'heating', 'low', 'additional', 'recommendation', 'recommendation', 'potential', 'impact', 'consider', 'replacing', 't8', 'lamp', 'led', 'low', 'property', 'report', 'detail', 'report', 'issued', '4', 'february', '2022', 'total', 'useful', 'floor', 'area', '864', 'square', 'metre', 'building', 'environment', 'heating', 'natural', 'ventilation', 'calculation', 'tool', 'designbuilder', 'software', 'ltd', 'designbuilder', 'sbem', 'v618', 'sbem', 'v56b0', 'assessor', 'detail', 'assessor', 'name', 'ashton', 'kaziboni', 'telephone', '01327', '811166', 'email', 'ashtonkazibonisocoteccom', 'employer', 'name', 'socotec', 'ltd', 'employer', 'address', 'henge', 'barn', 'pury', 'hill', 'business', 'park', 'alderton', 'road', 'assessor', 'id', 'stro034300', 'assessor', 'declaration', 'assessor', 'related', 'owner', 'property', 'accreditation', 'scheme', 'stroma', 'certification', 'ltd', 'report', 'property', 'aware', 'previous', 'report', 'property', 'listed', 'please', 'contact', 'u', 'dluhcdigitalserviceslevellingupgovuk', 'call', 'helpdesk', '020', '3829', '0748', 'monday', 'friday', '9am', '5pm', 'related', 'report', 'property', 'support', 'link', 'accessibility', 'statement', 'cooky', 'service', 'give', 'feedback', 'service', 'performance', 'content', 'available', 'open', 'government', 'licence', 'v30', 'except', 'otherwise', 'stated', 'crown', 'copyright']\n",
        "\n",
        "# cleanedtext: List of a list of words\n",
        "cleanedtext = [\n",
        "    ['energy', 'certificate', 'performance', 'energy', 'certificate'],\n",
        "    ['epc', 'find', 'energy', 'certificate', 'govuk'],\n",
        "    ['cooky', 'find', 'energy', 'certificate', 'use'],\n",
        "    ['essential', 'cooky', 'make', 'service', 'work'],\n",
        "    ['youve', 'accepted', 'analytics', 'cooky', 'change']\n",
        "]\n",
        "\n",
        "# Create a dictionary for WordVec and initialize each word count list to [0, 0, 0, ...] (same length as cleanedtext)\n",
        "word_vec_dict = {word: [0] * len(cleanedtext) for word in WordVec}\n",
        "\n",
        "# Count how many times each word appears in each row of cleanedtext and update the dictionary\n",
        "for i, document in enumerate(cleanedtext):\n",
        "    word_counts = Counter(document)\n",
        "    for word, count in word_counts.items():\n",
        "        if word in word_vec_dict:\n",
        "            word_vec_dict[word][i] = count\n",
        "\n",
        "# Display the word count dictionary\n",
        "print(word_vec_dict)\n"
      ],
      "metadata": {
        "colab": {
          "base_uri": "https://localhost:8080/"
        },
        "id": "UQsHSSvtffuo",
        "outputId": "f3d95b7f-b0e5-4c8a-dc62-752d8306d78f"
      },
      "execution_count": null,
      "outputs": [
        {
          "output_type": "stream",
          "name": "stdout",
          "text": [
            "{'energy': [2, 1, 1, 0, 0], 'performance': [1, 0, 0, 0, 0], 'certificate': [2, 1, 1, 0, 0], 'epc': [0, 1, 0, 0, 0], 'find': [0, 1, 1, 0, 0], 'govuk': [0, 1, 0, 0, 0], 'cooky': [0, 0, 1, 1, 1], 'use': [0, 0, 1, 0, 0], 'essential': [0, 0, 0, 1, 0], 'make': [0, 0, 0, 1, 0], 'service': [0, 0, 0, 1, 0], 'work': [0, 0, 0, 1, 0], 'wed': [0, 0, 0, 0, 0], 'also': [0, 0, 0, 0, 0], 'like': [0, 0, 0, 0, 0], 'analytics': [0, 0, 0, 0, 1], 'understand': [0, 0, 0, 0, 0], 'improvement': [0, 0, 0, 0, 0], 'accept': [0, 0, 0, 0, 0], 'reject': [0, 0, 0, 0, 0], 'view': [0, 0, 0, 0, 0], 'youve': [0, 0, 0, 0, 1], 'accepted': [0, 0, 0, 0, 1], 'change': [0, 0, 0, 0, 1], 'cookie': [0, 0, 0, 0, 0], 'setting': [0, 0, 0, 0, 0], 'time': [0, 0, 0, 0, 0], 'rejected': [0, 0, 0, 0, 0], 'hide': [0, 0, 0, 0, 0], 'message': [0, 0, 0, 0, 0], 'skip': [0, 0, 0, 0, 0], 'main': [0, 0, 0, 0, 0], 'content': [0, 0, 0, 0, 0], 'recommendation': [0, 0, 0, 0, 0], 'report': [0, 0, 0, 0, 0], 'rating': [0, 0, 0, 0, 0], 'property': [0, 0, 0, 0, 0], 'detail': [0, 0, 0, 0, 0], 'assessor': [0, 0, 0, 0, 0], 'share': [0, 0, 0, 0, 0], 'email': [0, 0, 0, 0, 0], 'copy': [0, 0, 0, 0, 0], 'link': [0, 0, 0, 0, 0], 'clipboard': [0, 0, 0, 0, 0], 'print': [0, 0, 0, 0, 0], 'su5355': [0, 0, 0, 0, 0], 'vicar': [0, 0, 0, 0, 0], 'lane': [0, 0, 0, 0, 0], 'leeds': [0, 0, 0, 0, 0], 'ls1': [0, 0, 0, 0, 0], '6ba': [0, 0, 0, 0, 0], 'number': [0, 0, 0, 0, 0], '92431656815756147032': [0, 0, 0, 0, 0], 'valid': [0, 0, 0, 0, 0], '3': [0, 0, 0, 0, 0], 'february': [0, 0, 0, 0, 0], '2032': [0, 0, 0, 0, 0], 'current': [0, 0, 0, 0, 0], 'information': [0, 0, 0, 0, 0], 'see': [0, 0, 0, 0, 0], 'improve': [0, 0, 0, 0, 0], 'efficiency': [0, 0, 0, 0, 0], 'recommended': [0, 0, 0, 0, 0], 'grouped': [0, 0, 0, 0, 0], 'estimated': [0, 0, 0, 0, 0], 'would': [0, 0, 0, 0, 0], 'take': [0, 0, 0, 0, 0], 'pay': [0, 0, 0, 0, 0], 'may': [0, 0, 0, 0, 0], 'additional': [0, 0, 0, 0, 0], 'marked': [0, 0, 0, 0, 0], 'low': [0, 0, 0, 0, 0], 'medium': [0, 0, 0, 0, 0], 'high': [0, 0, 0, 0, 0], 'show': [0, 0, 0, 0, 0], 'potential': [0, 0, 0, 0, 0], 'impact': [0, 0, 0, 0, 0], 'reducing': [0, 0, 0, 0, 0], 'carbon': [0, 0, 0, 0, 0], 'emission': [0, 0, 0, 0, 0], 'within': [0, 0, 0, 0, 0], 'year': [0, 0, 0, 0, 0], 'insulation': [0, 0, 0, 0, 0], 'hws': [0, 0, 0, 0, 0], 'storage': [0, 0, 0, 0, 0], 'add': [0, 0, 0, 0, 0], 'control': [0, 0, 0, 0, 0], 'heating': [0, 0, 0, 0, 0], 'system': [0, 0, 0, 0, 0], 'space': [0, 0, 0, 0, 0], 'solar': [0, 0, 0, 0, 0], 'gain': [0, 0, 0, 0, 0], 'limit': [0, 0, 0, 0, 0], 'defined': [0, 0, 0, 0, 0], 'ncm': [0, 0, 0, 0, 0], 'exceeded': [0, 0, 0, 0, 0], 'might': [0, 0, 0, 0, 0], 'cause': [0, 0, 0, 0, 0], 'overheating': [0, 0, 0, 0, 0], 'consider': [0, 0, 0, 0, 0], 'measure': [0, 0, 0, 0, 0], 'application': [0, 0, 0, 0, 0], 'reflective': [0, 0, 0, 0, 0], 'coating': [0, 0, 0, 0, 0], 'shading': [0, 0, 0, 0, 0], 'device': [0, 0, 0, 0, 0], 'window': [0, 0, 0, 0, 0], 'optimum': [0, 0, 0, 0, 0], 'startstop': [0, 0, 0, 0, 0], '7': [0, 0, 0, 0, 0], 'uvalues': [0, 0, 0, 0, 0], 'installing': [0, 0, 0, 0, 0], 'secondary': [0, 0, 0, 0, 0], 'glazing': [0, 0, 0, 0, 0], 'local': [0, 0, 0, 0, 0], 'temperature': [0, 0, 0, 0, 0], 'weather': [0, 0, 0, 0, 0], 'compensation': [0, 0, 0, 0, 0], 'loft': [0, 0, 0, 0, 0], 'poorly': [0, 0, 0, 0, 0], 'insulated': [0, 0, 0, 0, 0], 'installimprove': [0, 0, 0, 0, 0], 'solid': [0, 0, 0, 0, 0], 'wall': [0, 0, 0, 0, 0], 'introduce': [0, 0, 0, 0, 0], 'internal': [0, 0, 0, 0, 0], 'carry': [0, 0, 0, 0, 0], 'pressure': [0, 0, 0, 0, 0], 'test': [0, 0, 0, 0, 0], 'identify': [0, 0, 0, 0, 0], 'treat': [0, 0, 0, 0, 0], 'identified': [0, 0, 0, 0, 0], 'air': [0, 0, 0, 0, 0], 'leakage': [0, 0, 0, 0, 0], 'enter': [0, 0, 0, 0, 0], 'result': [0, 0, 0, 0, 0], 'calculation': [0, 0, 0, 0, 0], 'replaceimprove': [0, 0, 0, 0, 0], 'andor': [0, 0, 0, 0, 0], 'frame': [0, 0, 0, 0, 0], 'source': [0, 0, 0, 0, 0], 'heat': [0, 0, 0, 0, 0], 'pump': [0, 0, 0, 0, 0], 'ground': [0, 0, 0, 0, 0], 'building': [0, 0, 0, 0, 0], 'mounted': [0, 0, 0, 0, 0], 'wind': [0, 0, 0, 0, 0], 'turbine': [0, 0, 0, 0, 0], 'water': [0, 0, 0, 0, 0], 'replacing': [0, 0, 0, 0, 0], 't8': [0, 0, 0, 0, 0], 'lamp': [0, 0, 0, 0, 0], 'led': [0, 0, 0, 0, 0], 'issued': [0, 0, 0, 0, 0], '4': [0, 0, 0, 0, 0], '2022': [0, 0, 0, 0, 0], 'total': [0, 0, 0, 0, 0], 'useful': [0, 0, 0, 0, 0], 'floor': [0, 0, 0, 0, 0], 'area': [0, 0, 0, 0, 0], '864': [0, 0, 0, 0, 0], 'square': [0, 0, 0, 0, 0], 'metre': [0, 0, 0, 0, 0], 'environment': [0, 0, 0, 0, 0], 'natural': [0, 0, 0, 0, 0], 'ventilation': [0, 0, 0, 0, 0], 'tool': [0, 0, 0, 0, 0], 'designbuilder': [0, 0, 0, 0, 0], 'software': [0, 0, 0, 0, 0], 'ltd': [0, 0, 0, 0, 0], 'sbem': [0, 0, 0, 0, 0], 'v618': [0, 0, 0, 0, 0], 'v56b0': [0, 0, 0, 0, 0], 'name': [0, 0, 0, 0, 0], 'ashton': [0, 0, 0, 0, 0], 'kaziboni': [0, 0, 0, 0, 0], 'telephone': [0, 0, 0, 0, 0], '01327': [0, 0, 0, 0, 0], '811166': [0, 0, 0, 0, 0], 'ashtonkazibonisocoteccom': [0, 0, 0, 0, 0], 'employer': [0, 0, 0, 0, 0], 'socotec': [0, 0, 0, 0, 0], 'address': [0, 0, 0, 0, 0], 'henge': [0, 0, 0, 0, 0], 'barn': [0, 0, 0, 0, 0], 'pury': [0, 0, 0, 0, 0], 'hill': [0, 0, 0, 0, 0], 'business': [0, 0, 0, 0, 0], 'park': [0, 0, 0, 0, 0], 'alderton': [0, 0, 0, 0, 0], 'road': [0, 0, 0, 0, 0], 'id': [0, 0, 0, 0, 0], 'stro034300': [0, 0, 0, 0, 0], 'declaration': [0, 0, 0, 0, 0], 'related': [0, 0, 0, 0, 0], 'owner': [0, 0, 0, 0, 0], 'accreditation': [0, 0, 0, 0, 0], 'scheme': [0, 0, 0, 0, 0], 'stroma': [0, 0, 0, 0, 0], 'certification': [0, 0, 0, 0, 0], 'aware': [0, 0, 0, 0, 0], 'previous': [0, 0, 0, 0, 0], 'listed': [0, 0, 0, 0, 0], 'please': [0, 0, 0, 0, 0], 'contact': [0, 0, 0, 0, 0], 'u': [0, 0, 0, 0, 0], 'dluhcdigitalserviceslevellingupgovuk': [0, 0, 0, 0, 0], 'call': [0, 0, 0, 0, 0], 'helpdesk': [0, 0, 0, 0, 0], '020': [0, 0, 0, 0, 0], '3829': [0, 0, 0, 0, 0], '0748': [0, 0, 0, 0, 0], 'monday': [0, 0, 0, 0, 0], 'friday': [0, 0, 0, 0, 0], '9am': [0, 0, 0, 0, 0], '5pm': [0, 0, 0, 0, 0], 'support': [0, 0, 0, 0, 0], 'accessibility': [0, 0, 0, 0, 0], 'statement': [0, 0, 0, 0, 0], 'give': [0, 0, 0, 0, 0], 'feedback': [0, 0, 0, 0, 0], 'available': [0, 0, 0, 0, 0], 'open': [0, 0, 0, 0, 0], 'government': [0, 0, 0, 0, 0], 'licence': [0, 0, 0, 0, 0], 'v30': [0, 0, 0, 0, 0], 'except': [0, 0, 0, 0, 0], 'otherwise': [0, 0, 0, 0, 0], 'stated': [0, 0, 0, 0, 0], 'crown': [0, 0, 0, 0, 0], 'copyright': [0, 0, 0, 0, 0]}\n"
          ]
        }
      ]
    },
    {
      "cell_type": "code",
      "source": [
        "from collections import Counter\n",
        "import pandas as pd\n",
        "\n",
        "# WordVec: List of word vectors\n",
        "WordVec = ['energy', 'performance', 'certificate', 'epc', 'find', 'energy', 'certificate', 'govuk', 'cooky', 'find', 'energy', 'certificate', 'use', 'essential', 'cooky', 'make', 'service', 'work', 'wed', 'also', 'like', 'use', 'analytics', 'cooky', 'understand', 'use', 'service', 'make', 'improvement', 'accept', 'analytics', 'cooky', 'reject', 'analytics', 'cooky', 'view', 'cooky', 'youve', 'accepted', 'analytics', 'cooky', 'change', 'cookie', 'setting', 'time', 'youve', 'rejected', 'analytics', 'cooky', 'change', 'cookie', 'setting', 'time', 'hide', 'cookie', 'message', 'skip', 'main', 'content', 'govuk', 'find', 'energy', 'certificate', 'energy', 'performance', 'certificate', 'epc', 'recommendation', 'report', 'report', 'content', 'energy', 'rating', 'epc', 'recommendation', 'property', 'report', 'detail', 'assessor', 'detail', 'report', 'property', 'share', 'report', 'email', 'copy', 'link', 'clipboard', 'print', 'su5355', 'vicar', 'lane', 'leeds', 'ls1', '6ba', 'report', 'number', '92431656815756147032', 'valid', '3', 'february', '2032', 'energy', 'rating', 'epc', 'property', 'current', 'energy', 'rating', 'information', 'property', 'energy', 'performance', 'see', 'epc', 'property', 'recommendation', 'make', 'change', 'improve', 'property', 'energy', 'efficiency', 'recommended', 'improvement', 'grouped', 'estimated', 'time', 'would', 'take', 'change', 'pay', 'assessor', 'may', 'also', 'make', 'additional', 'recommendation', 'recommendation', 'marked', 'low', 'medium', 'high', 'show', 'potential', 'impact', 'change', 'reducing', 'property', 'carbon', 'emission', 'change', 'pay', 'within', '3', 'year', 'recommendation', 'potential', 'impact', 'improve', 'insulation', 'hws', 'storage', 'low', 'add', 'time', 'control', 'heating', 'system', 'medium', 'space', 'solar', 'gain', 'limit', 'defined', 'ncm', 'exceeded', 'might', 'cause', 'overheating', 'consider', 'solar', 'control', 'measure', 'application', 'reflective', 'coating', 'shading', 'device', 'window', 'medium', 'add', 'optimum', 'startstop', 'heating', 'system', 'medium', 'change', 'pay', 'within', '3', '7', 'year', 'recommendation', 'potential', 'impact', 'window', 'high', 'uvalues', 'consider', 'installing', 'secondary', 'glazing', 'medium', 'add', 'local', 'temperature', 'control', 'heating', 'system', 'medium', 'add', 'weather', 'compensation', 'control', 'heating', 'system', 'medium', 'loft', 'space', 'poorly', 'insulated', 'installimprove', 'insulation', 'medium', 'add', 'local', 'time', 'control', 'heating', 'system', 'medium', 'solid', 'wall', 'poorly', 'insulated', 'introduce', 'improve', 'internal', 'wall', 'insulation', 'medium', 'carry', 'pressure', 'test', 'identify', 'treat', 'identified', 'air', 'leakage', 'enter', 'result', 'epc', 'calculation', 'medium', 'change', 'pay', '7', 'year', 'recommendation', 'potential', 'impact', 'glazing', 'poorly', 'insulated', 'replaceimprove', 'glazing', 'andor', 'frame', 'medium', 'consider', 'installing', 'air', 'source', 'heat', 'pump', 'high', 'consider', 'installing', 'ground', 'source', 'heat', 'pump', 'high', 'consider', 'installing', 'building', 'mounted', 'wind', 'turbine', 'low', 'consider', 'installing', 'solar', 'water', 'heating', 'low', 'additional', 'recommendation', 'recommendation', 'potential', 'impact', 'consider', 'replacing', 't8', 'lamp', 'led', 'low', 'property', 'report', 'detail', 'report', 'issued', '4', 'february', '2022', 'total', 'useful', 'floor', 'area', '864', 'square', 'metre', 'building', 'environment', 'heating', 'natural', 'ventilation', 'calculation', 'tool', 'designbuilder', 'software', 'ltd', 'designbuilder', 'sbem', 'v618', 'sbem', 'v56b0', 'assessor', 'detail', 'assessor', 'name', 'ashton', 'kaziboni', 'telephone', '01327', '811166', 'email', 'ashtonkazibonisocoteccom', 'employer', 'name', 'socotec', 'ltd', 'employer', 'address', 'henge', 'barn', 'pury', 'hill', 'business', 'park', 'alderton', 'road', 'assessor', 'id', 'stro034300', 'assessor', 'declaration', 'assessor', 'related', 'owner', 'property', 'accreditation', 'scheme', 'stroma', 'certification', 'ltd', 'report', 'property', 'aware', 'previous', 'report', 'property', 'listed', 'please', 'contact', 'u', 'dluhcdigitalserviceslevellingupgovuk', 'call', 'helpdesk', '020', '3829', '0748', 'monday', 'friday', '9am', '5pm', 'related', 'report', 'property', 'support', 'link', 'accessibility', 'statement', 'cooky', 'service', 'give', 'feedback', 'service', 'performance', 'content', 'available', 'open', 'government', 'licence', 'v30', 'except', 'otherwise', 'stated', 'crown', 'copyright']\n",
        "\n",
        "# cleanedtext: List of a list of words\n",
        "cleanedtext = [\n",
        "    ['energy', 'certificate', 'performance', 'energy', 'certificate'],\n",
        "    ['epc', 'find', 'energy', 'certificate', 'govuk'],\n",
        "    ['cooky', 'find', 'energy', 'certificate', 'use'],\n",
        "    ['essential', 'cooky', 'make', 'service', 'work'],\n",
        "    ['youve', 'accepted', 'analytics', 'cooky', 'change']\n",
        "]\n",
        "\n",
        "# Create a dictionary for WordVec and initialize each word count list to [0, 0, 0, ...] (same length as cleanedtext)\n",
        "word_vec_dict = {word: [0] * len(cleanedtext) for word in WordVec}\n",
        "\n",
        "# Count how many times each word appears in each row of cleanedtext and update the dictionary\n",
        "for i, document in enumerate(cleanedtext):\n",
        "    word_counts = Counter(document)\n",
        "    for word, count in word_counts.items():\n",
        "        if word in word_vec_dict:\n",
        "            word_vec_dict[word][i] = count\n",
        "\n",
        "# Convert the dictionary into a dataframe\n",
        "word_vec_df = pd.DataFrame(word_vec_dict)\n",
        "\n",
        "# Display the dataframe\n",
        "print(word_vec_df)\n"
      ],
      "metadata": {
        "colab": {
          "base_uri": "https://localhost:8080/"
        },
        "id": "VGGbQT9qjGZW",
        "outputId": "9b972573-4dcd-4145-f49c-1533cbb5164d"
      },
      "execution_count": null,
      "outputs": [
        {
          "output_type": "stream",
          "name": "stdout",
          "text": [
            "   energy  performance  certificate  epc  find  govuk  cooky  use  essential  \\\n",
            "0       2            1            2    0     0      0      0    0          0   \n",
            "1       1            0            1    1     1      1      0    0          0   \n",
            "2       1            0            1    0     1      0      1    1          0   \n",
            "3       0            0            0    0     0      0      1    0          1   \n",
            "4       0            0            0    0     0      0      1    0          0   \n",
            "\n",
            "   make  ...  available  open  government  licence  v30  except  otherwise  \\\n",
            "0     0  ...          0     0           0        0    0       0          0   \n",
            "1     0  ...          0     0           0        0    0       0          0   \n",
            "2     0  ...          0     0           0        0    0       0          0   \n",
            "3     1  ...          0     0           0        0    0       0          0   \n",
            "4     0  ...          0     0           0        0    0       0          0   \n",
            "\n",
            "   stated  crown  copyright  \n",
            "0       0      0          0  \n",
            "1       0      0          0  \n",
            "2       0      0          0  \n",
            "3       0      0          0  \n",
            "4       0      0          0  \n",
            "\n",
            "[5 rows x 231 columns]\n"
          ]
        }
      ]
    }
  ]
}