{
  "nbformat": 4,
  "nbformat_minor": 0,
  "metadata": {
    "colab": {
      "provenance": []
    },
    "kernelspec": {
      "name": "python3",
      "display_name": "Python 3"
    },
    "language_info": {
      "name": "python"
    }
  },
  "cells": [
    {
      "cell_type": "markdown",
      "source": [
        "# **TF Main Extraction Function Applying the Formular**"
      ],
      "metadata": {
        "id": "vCysmdsvfegn"
      }
    },
    {
      "cell_type": "code",
      "execution_count": null,
      "metadata": {
        "id": "hD_vLBRxfJJN"
      },
      "outputs": [],
      "source": [
        "\n",
        "# Create a dictionary to store word counts for each row\n",
        "word_counts_dict = {}\n",
        "\n",
        "# Calculate word counts for each row and store in the dictionary\n",
        "for i, row in enumerate(cleanedtext):\n",
        "    word_counts = {}\n",
        "    total_words = len(row)\n",
        "\n",
        "    for word in row:\n",
        "        word_counts[word] = word_counts.get(word, 0) + 1\n",
        "\n",
        "    # Calculate word frequencies and store in the dictionary\n",
        "    word_frequencies = {word: count / total_words for word, count in word_counts.items()}\n",
        "    word_counts_dict[f'Row {i + 1}'] = word_frequencies\n",
        "\n",
        "# Create a DataFrame from the dictionary\n",
        "df = pd.DataFrame(word_counts_dict)\n",
        "\n",
        "# Transpose the DataFrame for a better view\n",
        "df = df.T\n",
        "\n",
        "# Fill NaN values with 0 (if a word doesn't appear in a row)\n",
        "df = df.fillna(0)\n",
        "\n",
        "# Reindex the DataFrame with WordVec for a consistent order\n",
        "df = df.reindex(WordVec, axis=1, fill_value=0)\n",
        "\n",
        "# Display the DataFrame\n",
        "print(df)"
      ]
    }
  ]
}