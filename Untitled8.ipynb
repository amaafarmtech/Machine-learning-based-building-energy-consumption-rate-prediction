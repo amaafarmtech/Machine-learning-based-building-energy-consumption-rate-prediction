{
  "nbformat": 4,
  "nbformat_minor": 0,
  "metadata": {
    "colab": {
      "provenance": []
    },
    "kernelspec": {
      "name": "python3",
      "display_name": "Python 3"
    },
    "language_info": {
      "name": "python"
    }
  },
  "cells": [
    {
      "cell_type": "markdown",
      "source": [
        "# **TFIDF Function with applied Formular**"
      ],
      "metadata": {
        "id": "4DQTMcOGgg1U"
      }
    },
    {
      "cell_type": "code",
      "execution_count": null,
      "metadata": {
        "id": "dYFyxtI8gVOw"
      },
      "outputs": [],
      "source": [
        "# Create a dictionary to store word counts for each term across all documents\n",
        "word_counts = {word: 0 for word in WordVec}\n",
        "\n",
        "# Calculate document frequency (DF)\n",
        "for doc in cleanedtext:\n",
        "    unique_words = set(doc)\n",
        "    for word in unique_words:\n",
        "        if word in WordVec:\n",
        "            word_counts[word] += 1\n",
        "\n",
        "# Calculate the total number of documents in the corpus\n",
        "total_documents = len(cleanedtext)\n",
        "\n",
        "# Calculate inverse document frequency (IDF) and store in a dictionary\n",
        "idf_dict = {word: math.log((total_documents / (count + 1)) + 1) for word, count in word_counts.items()}\n",
        "\n",
        "# Calculate the TF-IDF scores for all terms in each document\n",
        "tfidf_scores = []\n",
        "for doc in cleanedtext:\n",
        "    tfidf_doc = {}\n",
        "    total_words = len(doc)\n",
        "    for word in WordVec:\n",
        "        if word in doc:\n",
        "            # Calculate term frequency (TF)\n",
        "            tf = doc.count(word) / total_words\n",
        "            # Calculate TF-IDF score\n",
        "            tfidf_score = tf * idf_dict[word]\n",
        "            tfidf_doc[word] = tfidf_score\n",
        "        else:\n",
        "            tfidf_doc[word] = 0.0\n",
        "    tfidf_scores.append(tfidf_doc)"
      ]
    }
  ]
}