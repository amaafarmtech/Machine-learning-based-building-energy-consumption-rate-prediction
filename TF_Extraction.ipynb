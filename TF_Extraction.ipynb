{
  "nbformat": 4,
  "nbformat_minor": 0,
  "metadata": {
    "colab": {
      "provenance": []
    },
    "kernelspec": {
      "name": "python3",
      "display_name": "Python 3"
    },
    "language_info": {
      "name": "python"
    }
  },
  "cells": [
    {
      "cell_type": "markdown",
      "source": [
        "# **Term Frequency (TF) Extraction Function**"
      ],
      "metadata": {
        "id": "fOTV5T19eTf2"
      }
    },
    {
      "cell_type": "code",
      "execution_count": null,
      "metadata": {
        "id": "fqI6iqvAePId"
      },
      "outputs": [],
      "source": [
        "# Create a dictionary for WordVec and initialize each word count list to [0, 0, 0, ...] (same length as cleanedtext)\n",
        "word_vec_dict = {word: [0] * len(cleanedtext) for word in WordVec}\n",
        "\n",
        "# Count how many times each word appears in each row of cleanedtext and update the dictionary\n",
        "for i, document in enumerate(cleanedtext):\n",
        "    word_counts = Counter(document)\n",
        "    for word, count in word_counts.items():\n",
        "        if word in word_vec_dict:\n",
        "            word_vec_dict[word][i] = count\n",
        "\n",
        "# Convert the dictionary into a dataframe\n",
        "word_vec_df = pd.DataFrame(word_vec_dict)\n",
        "\n",
        "# Display the dataframe\n",
        "print(word_vec_df)"
      ]
    }
  ]
}