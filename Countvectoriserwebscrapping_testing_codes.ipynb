{
  "nbformat": 4,
  "nbformat_minor": 0,
  "metadata": {
    "colab": {
      "provenance": []
    },
    "kernelspec": {
      "name": "python3",
      "display_name": "Python 3"
    },
    "language_info": {
      "name": "python"
    }
  },
  "cells": [
    {
      "cell_type": "markdown",
      "source": [
        "# **Countvectoriserwebscrapping**"
      ],
      "metadata": {
        "id": "tam0zW8y3KQG"
      }
    },
    {
      "cell_type": "code",
      "execution_count": null,
      "metadata": {
        "colab": {
          "base_uri": "https://localhost:8080/"
        },
        "id": "iDP4X1rbuiCF",
        "outputId": "16c59052-83ca-4df6-c66f-ad05060d42dc"
      },
      "outputs": [
        {
          "output_type": "stream",
          "name": "stderr",
          "text": [
            "[nltk_data] Downloading package punkt to /root/nltk_data...\n",
            "[nltk_data]   Unzipping tokenizers/punkt.zip.\n",
            "[nltk_data] Downloading package stopwords to /root/nltk_data...\n",
            "[nltk_data]   Unzipping corpora/stopwords.zip.\n",
            "[nltk_data] Downloading package wordnet to /root/nltk_data...\n"
          ]
        },
        {
          "output_type": "execute_result",
          "data": {
            "text/plain": [
              "True"
            ]
          },
          "metadata": {},
          "execution_count": 1
        }
      ],
      "source": [
        "import nltk\n",
        "nltk.download('punkt')\n",
        "nltk.download('stopwords')\n",
        "nltk.download('wordnet')"
      ]
    },
    {
      "cell_type": "code",
      "source": [
        "import requests\n",
        "from bs4 import BeautifulSoup\n",
        "import pandas as pd\n",
        "from sklearn.feature_extraction.text import CountVectorizer\n",
        "import re\n",
        "from nltk.corpus import stopwords\n",
        "from nltk.tokenize import word_tokenize\n",
        "from nltk.stem import WordNetLemmatizer"
      ],
      "metadata": {
        "id": "Kac3cDtCvZyG"
      },
      "execution_count": null,
      "outputs": []
    },
    {
      "cell_type": "code",
      "source": [
        "# Web scraping function\n",
        "def web_scraping_action(url):\n",
        "  response = requests.get(url)\n",
        "  soup = BeautifulSoup(response.text, \"html.parser\")\n",
        "  text_data = soup.get_text()\n",
        "  return text_data"
      ],
      "metadata": {
        "id": "HbzfaVthvtDB"
      },
      "execution_count": null,
      "outputs": []
    },
    {
      "cell_type": "code",
      "source": [
        "# Define a function for cleaning and preprocessing the text data\n",
        "def preprocess_text(text):\n",
        "    # Remove HTML tags\n",
        "    text = BeautifulSoup(text, \"html.parser\").get_text()\n",
        "\n",
        "    # Convert to lowercase\n",
        "    text = text.lower()\n",
        "\n",
        "    # Remove non-alphanumeric characters\n",
        "    text = re.sub(r'[^a-zA-Z0-9\\s]', '', text)\n",
        "\n",
        "    # Tokenize the text into words\n",
        "    words = word_tokenize(text)\n",
        "\n",
        "    # Remove stopwords\n",
        "    words = [word for word in words if word not in stopwords.words('english')]\n",
        "\n",
        "    # Lemmatize the words\n",
        "    lemmatizer = WordNetLemmatizer()\n",
        "    words = [lemmatizer.lemmatize(word) for word in words]\n",
        "\n",
        "    # Join the cleaned words back into a single string\n",
        "    cleaned_text = \" \".join(words)\n",
        "\n",
        "    return cleaned_text"
      ],
      "metadata": {
        "id": "L4Qvsjalv266"
      },
      "execution_count": null,
      "outputs": []
    },
    {
      "cell_type": "code",
      "source": [
        "def vectorize_text_to_df(_text):\n",
        "  # vectorize the text coming from cleaned text\n",
        "  #print(cleaned_text)\n",
        "  # Feature extraction\n",
        "  vectorizer = CountVectorizer()\n",
        "  features = vectorizer.fit_transform([_text])\n",
        "  # Create dataframe\n",
        "  df = pd.DataFrame(features.toarray(), columns=vectorizer.get_feature_names_out())\n",
        "  # Print the dataframe\n",
        "  print(df)\n",
        "  return df"
      ],
      "metadata": {
        "id": "5cYwFZSNv-KX"
      },
      "execution_count": null,
      "outputs": []
    },
    {
      "cell_type": "code",
      "source": [
        "_urls = ['https://find-energy-certificate.service.gov.uk/energy-certificate/9485-3019-0664-0100-5191',\n",
        "         'https://find-energy-certificate.service.gov.uk/energy-certificate/0970-4964-0413-4769-6024',\n",
        "         'https://find-energy-certificate.service.gov.uk/energy-certificate/0970-4964-0413-4760-6224',\n",
        "         'https://find-energy-certificate.service.gov.uk/energy-certificate/0970-4964-0413-4768-6124',\n",
        "         'https://find-energy-certificate.service.gov.uk/energy-certificate/0746-0643-4619-2697-4102',\n",
        "         'https://find-energy-certificate.service.gov.uk/energy-certificate/0970-4964-0413-4764-6120',\n",
        "         'https://find-energy-certificate.service.gov.uk/energy-certificate/9442-4067-0631-2608-7495']\n",
        "\n",
        "dfMain = pd.DataFrame()\n",
        "for _url in _urls:\n",
        "  # call web scrapping function\n",
        "  _scrapped_data = web_scraping_action(_url)\n",
        "  _cleaned_text = preprocess_text(_scrapped_data)\n",
        "   # call api to summarize clean txt\n",
        "  dfn = vectorize_text_to_df(_cleaned_text)\n",
        "\n",
        "  if dfMain is None or dfMain.empty:\n",
        "     dfMain = dfn.copy()\n",
        "     dfMain = pd.merge(dfMain, dfn)\n",
        "  # dfMain.head()\n",
        "\n",
        "# Specify the path and file name for the Excel file\n",
        "     #output_file = \"output.xlsx\"\n",
        "\n",
        "# Copy the DataFrame to an Excel file\n",
        "  #dfMain.to_excel(output_file, index=False)\n",
        "\n",
        "\n",
        "#print(\"DataFrame copied to Excel file successfully.\")\n",
        "\n",
        "\n"
      ],
      "metadata": {
        "colab": {
          "base_uri": "https://localhost:8080/"
        },
        "id": "pZxuS06SwGQ6",
        "outputId": "3a494678-939b-45f2-8d8d-d0d39ca78e7e"
      },
      "execution_count": null,
      "outputs": [
        {
          "output_type": "stream",
          "name": "stdout",
          "text": [
            "   020  025  0330  0748  07710444409  101125  124  126150  15  150  ...  \\\n",
            "0    1    1     1     1            1       1    1       1   2    1  ...   \n",
            "\n",
            "   ventilation  view  wed  work  worst  wwwassetepccouk  year  youre  youve  \\\n",
            "0            1     1    1     1      1                1     1      2      2   \n",
            "\n",
            "   zero  \n",
            "0     1  \n",
            "\n",
            "[1 rows x 190 columns]\n",
            "   020  0748  07577  09704964041347696024  1b  2017  2027  258137  2pj  30  \\\n",
            "0    1     1      1                     1   1     1     1       1    1   1   \n",
            "\n",
            "   ...  wigginton  wind  window  within  work  would  year  yo32  york  youve  \n",
            "0  ...          1     1       1       1     1      1     2     1     2      2  \n",
            "\n",
            "[1 rows x 197 columns]\n",
            "   020  0748  07577  09704964041347606224  18  2017  2027  258137  2pj  31  \\\n",
            "0    1     1      1                     1   1     1     1       1    1   1   \n",
            "\n",
            "   ...  wigginton  wind  window  within  work  would  year  yo32  york  youve  \n",
            "0  ...          1     1       1       1     1      1     2     1     2      2  \n",
            "\n",
            "[1 rows x 217 columns]\n",
            "   020  0748  07577  09704964041347686124  15  2017  2027  25  258137  2pj  \\\n",
            "0    1     1      1                     1   1     1     1   1       1    1   \n",
            "\n",
            "   ...  wigginton  wind  window  within  work  would  year  yo32  york  youve  \n",
            "0  ...          1     1       1       1     1      1     2     1     2      2  \n",
            "\n",
            "[1 rows x 208 columns]\n",
            "   020  07460643461926974102  0748  07577  13  2017  2027  23  258137  2pj  \\\n",
            "0    1                     1     1      1   1     1     1   1       1    1   \n",
            "\n",
            "   ...  wigginton  wind  window  within  work  would  year  yo32  york  youve  \n",
            "0  ...          1     1       1       1     1      1     2     1     2      2  \n",
            "\n",
            "[1 rows x 210 columns]\n",
            "   020  0748  07577  09704964041347646120  11  2017  2027  258137  2pj  30  \\\n",
            "0    1     1      1                     1   1     1     1       1    1   1   \n",
            "\n",
            "   ...  wigginton  wind  window  within  work  would  year  yo32  york  youve  \n",
            "0  ...          1     1       1       1     1      1     2     1     2      2  \n",
            "\n",
            "[1 rows x 204 columns]\n",
            "   020  0748  07577  2017  2027  258137  2pj  34  3829  41  ...  wigginton  \\\n",
            "0    1     1      1     1     1       1    1   1     1   1  ...          1   \n",
            "\n",
            "   wind  window  within  work  would  year  yo32  york  youve  \n",
            "0     1       1       2     1      1     3     1     2      2  \n",
            "\n",
            "[1 rows x 203 columns]\n"
          ]
        }
      ]
    },
    {
      "cell_type": "code",
      "source": [
        "dfMain.head()"
      ],
      "metadata": {
        "colab": {
          "base_uri": "https://localhost:8080/",
          "height": 110
        },
        "id": "C0LQD6qTMBX_",
        "outputId": "dbbc0b93-4f34-41a0-928c-a03e0a064801"
      },
      "execution_count": null,
      "outputs": [
        {
          "output_type": "execute_result",
          "data": {
            "text/plain": [
              "   020  025  0330  0748  07710444409  101125  124  126150  15  150  ...  \\\n",
              "0    1    1     1     1            1       1    1       1   2    1  ...   \n",
              "\n",
              "   ventilation  view  wed  work  worst  wwwassetepccouk  year  youre  youve  \\\n",
              "0            1     1    1     1      1                1     1      2      2   \n",
              "\n",
              "   zero  \n",
              "0     1  \n",
              "\n",
              "[1 rows x 190 columns]"
            ],
            "text/html": [
              "\n",
              "\n",
              "  <div id=\"df-1c5cedd0-ed09-49a9-a3de-68fc202e44a3\">\n",
              "    <div class=\"colab-df-container\">\n",
              "      <div>\n",
              "<style scoped>\n",
              "    .dataframe tbody tr th:only-of-type {\n",
              "        vertical-align: middle;\n",
              "    }\n",
              "\n",
              "    .dataframe tbody tr th {\n",
              "        vertical-align: top;\n",
              "    }\n",
              "\n",
              "    .dataframe thead th {\n",
              "        text-align: right;\n",
              "    }\n",
              "</style>\n",
              "<table border=\"1\" class=\"dataframe\">\n",
              "  <thead>\n",
              "    <tr style=\"text-align: right;\">\n",
              "      <th></th>\n",
              "      <th>020</th>\n",
              "      <th>025</th>\n",
              "      <th>0330</th>\n",
              "      <th>0748</th>\n",
              "      <th>07710444409</th>\n",
              "      <th>101125</th>\n",
              "      <th>124</th>\n",
              "      <th>126150</th>\n",
              "      <th>15</th>\n",
              "      <th>150</th>\n",
              "      <th>...</th>\n",
              "      <th>ventilation</th>\n",
              "      <th>view</th>\n",
              "      <th>wed</th>\n",
              "      <th>work</th>\n",
              "      <th>worst</th>\n",
              "      <th>wwwassetepccouk</th>\n",
              "      <th>year</th>\n",
              "      <th>youre</th>\n",
              "      <th>youve</th>\n",
              "      <th>zero</th>\n",
              "    </tr>\n",
              "  </thead>\n",
              "  <tbody>\n",
              "    <tr>\n",
              "      <th>0</th>\n",
              "      <td>1</td>\n",
              "      <td>1</td>\n",
              "      <td>1</td>\n",
              "      <td>1</td>\n",
              "      <td>1</td>\n",
              "      <td>1</td>\n",
              "      <td>1</td>\n",
              "      <td>1</td>\n",
              "      <td>2</td>\n",
              "      <td>1</td>\n",
              "      <td>...</td>\n",
              "      <td>1</td>\n",
              "      <td>1</td>\n",
              "      <td>1</td>\n",
              "      <td>1</td>\n",
              "      <td>1</td>\n",
              "      <td>1</td>\n",
              "      <td>1</td>\n",
              "      <td>2</td>\n",
              "      <td>2</td>\n",
              "      <td>1</td>\n",
              "    </tr>\n",
              "  </tbody>\n",
              "</table>\n",
              "<p>1 rows × 190 columns</p>\n",
              "</div>\n",
              "      <button class=\"colab-df-convert\" onclick=\"convertToInteractive('df-1c5cedd0-ed09-49a9-a3de-68fc202e44a3')\"\n",
              "              title=\"Convert this dataframe to an interactive table.\"\n",
              "              style=\"display:none;\">\n",
              "\n",
              "  <svg xmlns=\"http://www.w3.org/2000/svg\" height=\"24px\"viewBox=\"0 0 24 24\"\n",
              "       width=\"24px\">\n",
              "    <path d=\"M0 0h24v24H0V0z\" fill=\"none\"/>\n",
              "    <path d=\"M18.56 5.44l.94 2.06.94-2.06 2.06-.94-2.06-.94-.94-2.06-.94 2.06-2.06.94zm-11 1L8.5 8.5l.94-2.06 2.06-.94-2.06-.94L8.5 2.5l-.94 2.06-2.06.94zm10 10l.94 2.06.94-2.06 2.06-.94-2.06-.94-.94-2.06-.94 2.06-2.06.94z\"/><path d=\"M17.41 7.96l-1.37-1.37c-.4-.4-.92-.59-1.43-.59-.52 0-1.04.2-1.43.59L10.3 9.45l-7.72 7.72c-.78.78-.78 2.05 0 2.83L4 21.41c.39.39.9.59 1.41.59.51 0 1.02-.2 1.41-.59l7.78-7.78 2.81-2.81c.8-.78.8-2.07 0-2.86zM5.41 20L4 18.59l7.72-7.72 1.47 1.35L5.41 20z\"/>\n",
              "  </svg>\n",
              "      </button>\n",
              "\n",
              "\n",
              "\n",
              "    <div id=\"df-c2634fb1-76f0-4881-8f7b-1c5d7c6ae2d7\">\n",
              "      <button class=\"colab-df-quickchart\" onclick=\"quickchart('df-c2634fb1-76f0-4881-8f7b-1c5d7c6ae2d7')\"\n",
              "              title=\"Suggest charts.\"\n",
              "              style=\"display:none;\">\n",
              "\n",
              "<svg xmlns=\"http://www.w3.org/2000/svg\" height=\"24px\"viewBox=\"0 0 24 24\"\n",
              "     width=\"24px\">\n",
              "    <g>\n",
              "        <path d=\"M19 3H5c-1.1 0-2 .9-2 2v14c0 1.1.9 2 2 2h14c1.1 0 2-.9 2-2V5c0-1.1-.9-2-2-2zM9 17H7v-7h2v7zm4 0h-2V7h2v10zm4 0h-2v-4h2v4z\"/>\n",
              "    </g>\n",
              "</svg>\n",
              "      </button>\n",
              "    </div>\n",
              "\n",
              "<style>\n",
              "  .colab-df-quickchart {\n",
              "    background-color: #E8F0FE;\n",
              "    border: none;\n",
              "    border-radius: 50%;\n",
              "    cursor: pointer;\n",
              "    display: none;\n",
              "    fill: #1967D2;\n",
              "    height: 32px;\n",
              "    padding: 0 0 0 0;\n",
              "    width: 32px;\n",
              "  }\n",
              "\n",
              "  .colab-df-quickchart:hover {\n",
              "    background-color: #E2EBFA;\n",
              "    box-shadow: 0px 1px 2px rgba(60, 64, 67, 0.3), 0px 1px 3px 1px rgba(60, 64, 67, 0.15);\n",
              "    fill: #174EA6;\n",
              "  }\n",
              "\n",
              "  [theme=dark] .colab-df-quickchart {\n",
              "    background-color: #3B4455;\n",
              "    fill: #D2E3FC;\n",
              "  }\n",
              "\n",
              "  [theme=dark] .colab-df-quickchart:hover {\n",
              "    background-color: #434B5C;\n",
              "    box-shadow: 0px 1px 3px 1px rgba(0, 0, 0, 0.15);\n",
              "    filter: drop-shadow(0px 1px 2px rgba(0, 0, 0, 0.3));\n",
              "    fill: #FFFFFF;\n",
              "  }\n",
              "</style>\n",
              "\n",
              "    <script>\n",
              "      async function quickchart(key) {\n",
              "        const containerElement = document.querySelector('#' + key);\n",
              "        const charts = await google.colab.kernel.invokeFunction(\n",
              "            'suggestCharts', [key], {});\n",
              "      }\n",
              "    </script>\n",
              "\n",
              "      <script>\n",
              "\n",
              "function displayQuickchartButton(domScope) {\n",
              "  let quickchartButtonEl =\n",
              "    domScope.querySelector('#df-c2634fb1-76f0-4881-8f7b-1c5d7c6ae2d7 button.colab-df-quickchart');\n",
              "  quickchartButtonEl.style.display =\n",
              "    google.colab.kernel.accessAllowed ? 'block' : 'none';\n",
              "}\n",
              "\n",
              "        displayQuickchartButton(document);\n",
              "      </script>\n",
              "      <style>\n",
              "    .colab-df-container {\n",
              "      display:flex;\n",
              "      flex-wrap:wrap;\n",
              "      gap: 12px;\n",
              "    }\n",
              "\n",
              "    .colab-df-convert {\n",
              "      background-color: #E8F0FE;\n",
              "      border: none;\n",
              "      border-radius: 50%;\n",
              "      cursor: pointer;\n",
              "      display: none;\n",
              "      fill: #1967D2;\n",
              "      height: 32px;\n",
              "      padding: 0 0 0 0;\n",
              "      width: 32px;\n",
              "    }\n",
              "\n",
              "    .colab-df-convert:hover {\n",
              "      background-color: #E2EBFA;\n",
              "      box-shadow: 0px 1px 2px rgba(60, 64, 67, 0.3), 0px 1px 3px 1px rgba(60, 64, 67, 0.15);\n",
              "      fill: #174EA6;\n",
              "    }\n",
              "\n",
              "    [theme=dark] .colab-df-convert {\n",
              "      background-color: #3B4455;\n",
              "      fill: #D2E3FC;\n",
              "    }\n",
              "\n",
              "    [theme=dark] .colab-df-convert:hover {\n",
              "      background-color: #434B5C;\n",
              "      box-shadow: 0px 1px 3px 1px rgba(0, 0, 0, 0.15);\n",
              "      filter: drop-shadow(0px 1px 2px rgba(0, 0, 0, 0.3));\n",
              "      fill: #FFFFFF;\n",
              "    }\n",
              "  </style>\n",
              "\n",
              "      <script>\n",
              "        const buttonEl =\n",
              "          document.querySelector('#df-1c5cedd0-ed09-49a9-a3de-68fc202e44a3 button.colab-df-convert');\n",
              "        buttonEl.style.display =\n",
              "          google.colab.kernel.accessAllowed ? 'block' : 'none';\n",
              "\n",
              "        async function convertToInteractive(key) {\n",
              "          const element = document.querySelector('#df-1c5cedd0-ed09-49a9-a3de-68fc202e44a3');\n",
              "          const dataTable =\n",
              "            await google.colab.kernel.invokeFunction('convertToInteractive',\n",
              "                                                     [key], {});\n",
              "          if (!dataTable) return;\n",
              "\n",
              "          const docLinkHtml = 'Like what you see? Visit the ' +\n",
              "            '<a target=\"_blank\" href=https://colab.research.google.com/notebooks/data_table.ipynb>data table notebook</a>'\n",
              "            + ' to learn more about interactive tables.';\n",
              "          element.innerHTML = '';\n",
              "          dataTable['output_type'] = 'display_data';\n",
              "          await google.colab.output.renderOutput(dataTable, element);\n",
              "          const docLink = document.createElement('div');\n",
              "          docLink.innerHTML = docLinkHtml;\n",
              "          element.appendChild(docLink);\n",
              "        }\n",
              "      </script>\n",
              "    </div>\n",
              "  </div>\n"
            ]
          },
          "metadata": {},
          "execution_count": 7
        }
      ]
    },
    {
      "cell_type": "code",
      "source": [
        "# Specify the path and file name for the Excel file\n",
        "output_file = \"output1.xlsx\"\n",
        "\n",
        "# Copy the DataFrame to an Excel file\n",
        "dfMain.to_excel(output_file)\n",
        "\n",
        "print(\"DataFrame copied to Excel file successfully.\")\n"
      ],
      "metadata": {
        "colab": {
          "base_uri": "https://localhost:8080/"
        },
        "id": "b-SESvNnucQK",
        "outputId": "5eb33dd3-be18-438a-ae6d-4531adf8da50"
      },
      "execution_count": null,
      "outputs": [
        {
          "output_type": "stream",
          "name": "stdout",
          "text": [
            "DataFrame copied to Excel file successfully.\n"
          ]
        }
      ]
    }
  ]
}