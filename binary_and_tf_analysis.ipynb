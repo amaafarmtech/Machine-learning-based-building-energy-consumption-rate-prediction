{
  "nbformat": 4,
  "nbformat_minor": 0,
  "metadata": {
    "colab": {
      "provenance": []
    },
    "kernelspec": {
      "name": "python3",
      "display_name": "Python 3"
    },
    "language_info": {
      "name": "python"
    }
  },
  "cells": [
    {
      "cell_type": "code",
      "execution_count": null,
      "metadata": {
        "colab": {
          "base_uri": "https://localhost:8080/"
        },
        "id": "bpYZwN5XEuBa",
        "outputId": "6747e2c4-018e-450b-e8fa-3a6d2e3b9339"
      },
      "outputs": [
        {
          "output_type": "stream",
          "name": "stdout",
          "text": [
            "Mounted at /content/drive\n"
          ]
        }
      ],
      "source": [
        "from google.colab import drive\n",
        "\n",
        "# Mount Google Drive\n",
        "drive.mount('/content/drive')"
      ]
    },
    {
      "cell_type": "markdown",
      "source": [
        "# **Analysis for the Binary Count Dataset**"
      ],
      "metadata": {
        "id": "V_RKQzp6hcMw"
      }
    },
    {
      "cell_type": "code",
      "source": [
        "import pandas as pd\n",
        "\n",
        "# Read the CSV file into a DataFrame\n",
        "df = pd.read_excel('/content/drive/MyDrive/Mainbinaryoutput (2).xlsx')\n",
        "\n",
        "# Now you can work with the DataFrame as needed\n",
        "print(df.head())  # Print the first few rows of the DataFrame"
      ],
      "metadata": {
        "id": "pr15azi4Fe2N",
        "colab": {
          "base_uri": "https://localhost:8080/"
        },
        "outputId": "073f86b4-8d70-42f6-bd62-1e756b866661"
      },
      "execution_count": null,
      "outputs": [
        {
          "output_type": "stream",
          "name": "stdout",
          "text": [
            "   friday  see  fitting  ls11  time  helpdesk  floor  setting  kitching  \\\n",
            "0       1    1        1     1     1         1      1        1         1   \n",
            "1       1    1        0     0     1         1      1        1         0   \n",
            "2       1    1        1     0     1         1      1        1         0   \n",
            "3       1    1        1     0     1         1      1        1         0   \n",
            "4       1    1        1     0     1         1      1        1         0   \n",
            "\n",
            "   result  ...  chimney  sealing  turbine  transaction  organisation  \\\n",
            "0       1  ...        0        0        0            0             0   \n",
            "1       1  ...        0        0        0            0             0   \n",
            "2       1  ...        0        0        1            0             0   \n",
            "3       1  ...        0        0        0            0             0   \n",
            "4       1  ...        0        0        0            0             0   \n",
            "\n",
            "   equivalent  biomass  boiler  emission rate  consumption rate  \n",
            "0           0        0       0         112.58             659.0  \n",
            "1           0        0       1          41.31             291.6  \n",
            "2           0        0       0          51.02             302.0  \n",
            "3           0        0       0          73.17             433.0  \n",
            "4           0        0       0         158.65             938.0  \n",
            "\n",
            "[5 rows x 268 columns]\n"
          ]
        }
      ]
    },
    {
      "cell_type": "markdown",
      "source": [
        "# **Linear Regression**"
      ],
      "metadata": {
        "id": "eJ0D2WPiiYRA"
      }
    },
    {
      "cell_type": "code",
      "source": [
        "from sklearn.linear_model import LinearRegression\n",
        "from sklearn.model_selection import train_test_split\n",
        "from sklearn.metrics import mean_squared_error, r2_score # Add this import\n",
        "import numpy as np\n",
        "\n",
        "\n",
        "# Load your dataset\n",
        "df = pd.read_excel('/content/drive/MyDrive/Mainbinaryoutput (2).xlsx')\n",
        "\n",
        "# Assuming 'target' is the column you want to predict\n",
        "X = df.drop('consumption rate', axis=1)  # Features\n",
        "y = df['consumption rate']  # Target variable\n",
        "\n",
        "# Split the dataset into training and testing sets\n",
        "X_train, X_test, y_train, y_test = train_test_split(X, y, test_size=0.2, random_state=42)\n",
        "\n",
        "# Initialize the Linear Regression model\n",
        "linear_reg = LinearRegression()\n",
        "\n",
        "# Train the model\n",
        "linear_reg.fit(X_train, y_train)\n",
        "\n",
        "# Make predictions on the test set\n",
        "y_pred = linear_reg.predict(X_test)\n",
        "\n",
        "# Evaluate the model\n",
        "mse = mean_squared_error(y_test, y_pred)\n",
        "r2 = r2_score(y_test, y_pred)\n",
        "rmse = np.sqrt(mse)\n",
        "\n",
        "print(\"Mean Squared Error:\", mse)\n",
        "print(\"R-squared:\", r2)\n",
        "print(\"Root Mean Squared Error:\", rmse)\n"
      ],
      "metadata": {
        "colab": {
          "base_uri": "https://localhost:8080/"
        },
        "id": "N5dENymJgpIY",
        "outputId": "8002fbc3-2be8-46d1-bdf7-39783cee80c4"
      },
      "execution_count": null,
      "outputs": [
        {
          "output_type": "stream",
          "name": "stdout",
          "text": [
            "Mean Squared Error: 44257.05053846779\n",
            "R-squared: 0.44011037718756474\n",
            "Root Mean Squared Error: 210.37359753179055\n"
          ]
        }
      ]
    },
    {
      "cell_type": "markdown",
      "source": [
        "# **Random Forest Regression**"
      ],
      "metadata": {
        "id": "k-N5NSr6imA1"
      }
    },
    {
      "cell_type": "code",
      "source": [
        "import pandas as pd\n",
        "from sklearn.model_selection import train_test_split\n",
        "from sklearn.ensemble import RandomForestRegressor\n",
        "from sklearn.metrics import mean_squared_error, r2_score\n",
        "\n",
        "# Load your dataset into a Pandas DataFrame\n",
        "# Replace 'data.csv' with your actual data file\n",
        "df = pd.read_excel('/content/drive/MyDrive/Mainbinaryoutput (2).xlsx')\n",
        "\n",
        "# Assuming 'target' is the column you want to predict\n",
        "X = df.drop('consumption rate', axis=1)  # Features\n",
        "y = df['consumption rate']  # Target variable\n",
        "\n",
        "# Split the dataset into training and testing sets\n",
        "X_train, X_test, y_train, y_test = train_test_split(X, y, test_size=0.2, random_state=42)\n",
        "\n",
        "# Initialize the Random Forest Regressor\n",
        "# You can customize the parameters based on your data and requirements\n",
        "random_forest = RandomForestRegressor(n_estimators=200, random_state=42)\n",
        "\n",
        "# Train the model\n",
        "random_forest.fit(X_train, y_train)\n",
        "\n",
        "# Make predictions on the test set\n",
        "y_pred = random_forest.predict(X_test)\n",
        "\n",
        "# Evaluate the model\n",
        "mse = mean_squared_error(y_test, y_pred)\n",
        "r2 = r2_score(y_test, y_pred)\n",
        "rmse = np.sqrt(mse)\n",
        "\n",
        "print(\"Mean Squared Error:\", mse)\n",
        "print(\"R-squared:\", r2)\n",
        "print(\"Root Mean Squared Error:\", rmse)"
      ],
      "metadata": {
        "colab": {
          "base_uri": "https://localhost:8080/"
        },
        "id": "IpnXsdbdHwRG",
        "outputId": "6e07bb1d-62a1-4665-8c37-7230c2037f22"
      },
      "execution_count": null,
      "outputs": [
        {
          "output_type": "stream",
          "name": "stdout",
          "text": [
            "Mean Squared Error: 37191.635208348605\n",
            "R-squared: 0.5294939370060221\n",
            "Root Mean Squared Error: 192.85132928851854\n"
          ]
        }
      ]
    },
    {
      "cell_type": "markdown",
      "source": [
        "# **Analysis for TF Processed Dataset**"
      ],
      "metadata": {
        "id": "mXyboAZdh_wj"
      }
    },
    {
      "cell_type": "code",
      "source": [
        "import pandas as pd\n",
        "\n",
        "# Read the CSV file into a DataFrame\n",
        "df = pd.read_excel('/content/drive/MyDrive/Untitled tfprocessed.xlsx')\n",
        "\n",
        "# Now you can work with the DataFrame as needed\n",
        "print(df.head())  # Print the first few rows of the DataFrame"
      ],
      "metadata": {
        "colab": {
          "base_uri": "https://localhost:8080/"
        },
        "id": "zm2dkRi7sBMl",
        "outputId": "d1a797b8-c67a-4bf2-a27f-0c4de48760fe"
      },
      "execution_count": null,
      "outputs": [
        {
          "output_type": "stream",
          "name": "stdout",
          "text": [
            "       time     floor   setting    number  analytics  replacing   content  \\\n",
            "0  0.007979  0.002660  0.005319  0.005319   0.013298   0.002660  0.007979   \n",
            "1  0.009091  0.006061  0.006061  0.003030   0.015152   0.006061  0.009091   \n",
            "2  0.008982  0.002994  0.005988  0.005988   0.014970   0.002994  0.008982   \n",
            "3  0.008596  0.002865  0.005731  0.005731   0.014327   0.002865  0.008596   \n",
            "4  0.008086  0.002695  0.005391  0.005391   0.013477   0.002695  0.008086   \n",
            "\n",
            "       find      high    change  ...       air    medium   improve  property  \\\n",
            "0  0.007979  0.005319  0.021277  ...  0.005319  0.015957  0.005319  0.031915   \n",
            "1  0.009091  0.009091  0.021212  ...  0.003030  0.009091  0.003030  0.039394   \n",
            "2  0.008982  0.005988  0.020958  ...  0.002994  0.014970  0.005988  0.035928   \n",
            "3  0.008596  0.011461  0.020057  ...  0.002865  0.017192  0.005731  0.034384   \n",
            "4  0.008086  0.013477  0.021563  ...  0.005391  0.018868  0.005391  0.032345   \n",
            "\n",
            "      solar    report      wall      lamp  emission rate  consumption rate  \n",
            "0  0.002660  0.029255  0.005319  0.005319         112.58             659.0  \n",
            "1  0.009091  0.033333  0.000000  0.003030          41.31             291.6  \n",
            "2  0.002994  0.032934  0.005988  0.002994          51.02             302.0  \n",
            "3  0.000000  0.031519  0.005731  0.005731          73.17             433.0  \n",
            "4  0.005391  0.029650  0.005391  0.002695         158.65             938.0  \n",
            "\n",
            "[5 rows x 47 columns]\n"
          ]
        }
      ]
    },
    {
      "cell_type": "code",
      "source": [
        "\n",
        "# Impute missing values with the mean of each column\n",
        "df_imputed = df.fillna(df.mean())\n",
        "\n",
        "# Check if missing values have been imputed\n",
        "print(\"Number of missing values in each column after imputation:\")\n",
        "print(df_imputed.isnull().sum())"
      ],
      "metadata": {
        "colab": {
          "base_uri": "https://localhost:8080/"
        },
        "id": "fB48RDXmtgML",
        "outputId": "2032cd2a-ca72-46dd-b433-5ac666e8d9aa"
      },
      "execution_count": null,
      "outputs": [
        {
          "output_type": "stream",
          "name": "stdout",
          "text": [
            "Number of missing values in each column after imputation:\n",
            "time                0\n",
            "floor               0\n",
            "setting             0\n",
            "number              0\n",
            "analytics           0\n",
            "replacing           0\n",
            "content             0\n",
            "find                0\n",
            "high                0\n",
            "change              0\n",
            "consider            0\n",
            "calculation         0\n",
            "installing          0\n",
            "fluorescent         0\n",
            "performance         0\n",
            "insulation          0\n",
            "year                0\n",
            "control             0\n",
            "insulated           0\n",
            "low                 0\n",
            "service             0\n",
            "related             0\n",
            "heating             0\n",
            "efficiency          0\n",
            "recommendation      0\n",
            "system              0\n",
            "impact              0\n",
            "name                0\n",
            "detail              0\n",
            "improvement         0\n",
            "link                0\n",
            "use                 0\n",
            "building            0\n",
            "energy              0\n",
            "pay                 0\n",
            "rating              0\n",
            "carbon              0\n",
            "air                 0\n",
            "medium              0\n",
            "improve             0\n",
            "property            0\n",
            "solar               0\n",
            "report              0\n",
            "wall                0\n",
            "lamp                0\n",
            "emission rate       0\n",
            "consumption rate    0\n",
            "dtype: int64\n"
          ]
        }
      ]
    },
    {
      "cell_type": "code",
      "source": [
        "df_imputed.head"
      ],
      "metadata": {
        "colab": {
          "base_uri": "https://localhost:8080/"
        },
        "id": "kcr09N-9LQu3",
        "outputId": "4b4c7568-07fe-46d0-9289-e17dc00870c9"
      },
      "execution_count": null,
      "outputs": [
        {
          "output_type": "execute_result",
          "data": {
            "text/plain": [
              "<bound method NDFrame.head of           time     floor   setting    number  analytics  replacing   content  \\\n",
              "0     0.007979  0.002660  0.005319  0.005319   0.013298   0.002660  0.007979   \n",
              "1     0.009091  0.006061  0.006061  0.003030   0.015152   0.006061  0.009091   \n",
              "2     0.008982  0.002994  0.005988  0.005988   0.014970   0.002994  0.008982   \n",
              "3     0.008596  0.002865  0.005731  0.005731   0.014327   0.002865  0.008596   \n",
              "4     0.008086  0.002695  0.005391  0.005391   0.013477   0.002695  0.008086   \n",
              "...        ...       ...       ...       ...        ...        ...       ...   \n",
              "1180  0.011952  0.003984  0.007968  0.003984   0.019920   0.000000  0.011952   \n",
              "1181  0.011952  0.003984  0.007968  0.003984   0.019920   0.000000  0.011952   \n",
              "1182  0.011952  0.003984  0.007968  0.003984   0.019920   0.000000  0.011952   \n",
              "1183  0.011952  0.003984  0.007968  0.003984   0.019920   0.000000  0.011952   \n",
              "1184  0.011952  0.003984  0.007968  0.003984   0.019920   0.000000  0.011952   \n",
              "\n",
              "          find      high    change  ...       air    medium   improve  \\\n",
              "0     0.007979  0.005319  0.021277  ...  0.005319  0.015957  0.005319   \n",
              "1     0.009091  0.009091  0.021212  ...  0.003030  0.009091  0.003030   \n",
              "2     0.008982  0.005988  0.020958  ...  0.002994  0.014970  0.005988   \n",
              "3     0.008596  0.011461  0.020057  ...  0.002865  0.017192  0.005731   \n",
              "4     0.008086  0.013477  0.021563  ...  0.005391  0.018868  0.005391   \n",
              "...        ...       ...       ...  ...       ...       ...       ...   \n",
              "1180  0.011952  0.003984  0.019920  ...  0.003984  0.003984  0.003984   \n",
              "1181  0.011952  0.003984  0.019920  ...  0.003984  0.003984  0.003984   \n",
              "1182  0.011952  0.003984  0.019920  ...  0.003984  0.003984  0.003984   \n",
              "1183  0.011952  0.003984  0.019920  ...  0.003984  0.003984  0.003984   \n",
              "1184  0.011952  0.003984  0.019920  ...  0.003984  0.003984  0.003984   \n",
              "\n",
              "      property     solar    report      wall      lamp  emission rate  \\\n",
              "0     0.031915  0.002660  0.029255  0.005319  0.005319         112.58   \n",
              "1     0.039394  0.009091  0.033333  0.000000  0.003030          41.31   \n",
              "2     0.035928  0.002994  0.032934  0.005988  0.002994          51.02   \n",
              "3     0.034384  0.000000  0.031519  0.005731  0.005731          73.17   \n",
              "4     0.032345  0.005391  0.029650  0.005391  0.002695         158.65   \n",
              "...        ...       ...       ...       ...       ...            ...   \n",
              "1180  0.047809  0.000000  0.043825  0.000000  0.000000          12.71   \n",
              "1181  0.047809  0.000000  0.043825  0.000000  0.000000         124.56   \n",
              "1182  0.047809  0.000000  0.043825  0.000000  0.000000          63.04   \n",
              "1183  0.047809  0.000000  0.043825  0.000000  0.000000         133.15   \n",
              "1184  0.047809  0.000000  0.043825  0.000000  0.000000          83.11   \n",
              "\n",
              "      consumption rate  \n",
              "0                659.0  \n",
              "1                291.6  \n",
              "2                302.0  \n",
              "3                433.0  \n",
              "4                938.0  \n",
              "...                ...  \n",
              "1180              98.0  \n",
              "1181             723.0  \n",
              "1182             363.0  \n",
              "1183             788.0  \n",
              "1184             291.6  \n",
              "\n",
              "[1185 rows x 47 columns]>"
            ]
          },
          "metadata": {},
          "execution_count": 7
        }
      ]
    },
    {
      "cell_type": "markdown",
      "source": [
        "# **TF Random Forest Regression**"
      ],
      "metadata": {
        "id": "Eh4LcJaLi69K"
      }
    },
    {
      "cell_type": "code",
      "source": [
        "import pandas as pd\n",
        "from sklearn.model_selection import train_test_split\n",
        "from sklearn.ensemble import RandomForestRegressor\n",
        "from sklearn.metrics import mean_squared_error, r2_score\n",
        "\n",
        "# Load your dataset into a Pandas DataFrame\n",
        "# Replace 'data.csv' with your actual data file\n",
        "df_imputed = pd.read_excel('/content/drive/MyDrive/Untitled tfprocessed.xlsx')\n",
        "\n",
        "# Assuming 'target' is the column you want to predict\n",
        "X = df_imputed.drop('consumption rate', axis=1)  # Features\n",
        "y = df_imputed['consumption rate']  # Target variable\n",
        "\n",
        "# Split the dataset into training and testing sets\n",
        "X_train, X_test, y_train, y_test = train_test_split(X, y, test_size=0.2, random_state=42)\n",
        "\n",
        "# Initialize the Random Forest Regressor\n",
        "# You can customize the parameters based on your data and requirements\n",
        "random_forest = RandomForestRegressor(n_estimators=100, random_state=42)\n",
        "\n",
        "# Train the model\n",
        "random_forest.fit(X_train, y_train)\n",
        "\n",
        "# Make predictions on the test set\n",
        "y_pred = random_forest.predict(X_test)\n",
        "\n",
        "# Evaluate the model\n",
        "mse = mean_squared_error(y_test, y_pred)\n",
        "r2 = r2_score(y_test, y_pred)\n",
        "rmse = np.sqrt(mse)\n",
        "\n",
        "print(\"Mean Squared Error:\", mse)\n",
        "print(\"R-squared:\", r2)\n",
        "print(\"Root Mean Squared Error:\", rmse)"
      ],
      "metadata": {
        "colab": {
          "base_uri": "https://localhost:8080/"
        },
        "id": "uiAxJno8tu27",
        "outputId": "310a3c9d-c60a-4160-e89f-c797042f490e"
      },
      "execution_count": null,
      "outputs": [
        {
          "output_type": "stream",
          "name": "stdout",
          "text": [
            "Mean Squared Error: 37431.28654528587\n",
            "R-squared: 0.5264621421843659\n",
            "Root Mean Squared Error: 193.47166858557318\n"
          ]
        }
      ]
    }
  ]
}